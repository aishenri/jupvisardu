{
 "cells": [
  {
   "cell_type": "markdown",
   "metadata": {},
   "source": [
    "### Arduino, visualino, 123d.circuits.io, jupyter, julia\n",
    "\n",
    "Cinq outils en un, qui permettent de faire de belles choses. Voici un aide mémoire pour me rappeler comment les utiliser.\n",
    "\n",
    "J'ai commencé par faire un multimètre LCD (Capacimètre, Fréquencemètre, Télémètre, Thermomètre), je vais aussi faire un testeur de batterie."
   ]
  },
  {
   "cell_type": "markdown",
   "metadata": {},
   "source": [
    "Thermomètre digital"
   ]
  },
  {
   "cell_type": "markdown",
   "metadata": {
    "collapsed": false
   },
   "source": [
    "![Image Test](lcdtermo.png)"
   ]
  },
  {
   "cell_type": "markdown",
   "metadata": {
    "collapsed": false
   },
   "source": [
    "Modélisation 123d.circuits.io"
   ]
  },
  {
   "cell_type": "markdown",
   "metadata": {
    "collapsed": false
   },
   "source": [
    "![Image Test](termolcd.png)"
   ]
  },
  {
   "cell_type": "code",
   "execution_count": null,
   "metadata": {
    "collapsed": true
   },
   "outputs": [],
   "source": []
  }
 ],
 "metadata": {
  "kernelspec": {
   "display_name": "Julia 0.5.0",
   "language": "julia",
   "name": "julia-0.5"
  },
  "language_info": {
   "file_extension": ".jl",
   "mimetype": "application/julia",
   "name": "julia",
   "version": "0.5.0"
  }
 },
 "nbformat": 4,
 "nbformat_minor": 0
}
